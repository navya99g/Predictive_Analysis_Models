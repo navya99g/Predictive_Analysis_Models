{
 "cells": [
  {
   "cell_type": "code",
   "execution_count": 99,
   "id": "55819a16",
   "metadata": {
    "scrolled": true
   },
   "outputs": [
    {
     "data": {
      "text/html": [
       "<div>\n",
       "<style scoped>\n",
       "    .dataframe tbody tr th:only-of-type {\n",
       "        vertical-align: middle;\n",
       "    }\n",
       "\n",
       "    .dataframe tbody tr th {\n",
       "        vertical-align: top;\n",
       "    }\n",
       "\n",
       "    .dataframe thead th {\n",
       "        text-align: right;\n",
       "    }\n",
       "</style>\n",
       "<table border=\"1\" class=\"dataframe\">\n",
       "  <thead>\n",
       "    <tr style=\"text-align: right;\">\n",
       "      <th></th>\n",
       "      <th>Overall rank</th>\n",
       "      <th>Country or region</th>\n",
       "      <th>Score</th>\n",
       "      <th>GDP per capita</th>\n",
       "      <th>Social support</th>\n",
       "      <th>Healthy life expectancy</th>\n",
       "      <th>Freedom to make life choices</th>\n",
       "      <th>Generosity</th>\n",
       "      <th>Perceptions of corruption</th>\n",
       "    </tr>\n",
       "  </thead>\n",
       "  <tbody>\n",
       "    <tr>\n",
       "      <th>0</th>\n",
       "      <td>1</td>\n",
       "      <td>Finland</td>\n",
       "      <td>7.769</td>\n",
       "      <td>1.340</td>\n",
       "      <td>1.587</td>\n",
       "      <td>0.986</td>\n",
       "      <td>0.596</td>\n",
       "      <td>0.153</td>\n",
       "      <td>0.393</td>\n",
       "    </tr>\n",
       "    <tr>\n",
       "      <th>1</th>\n",
       "      <td>2</td>\n",
       "      <td>Denmark</td>\n",
       "      <td>7.600</td>\n",
       "      <td>1.383</td>\n",
       "      <td>1.573</td>\n",
       "      <td>0.996</td>\n",
       "      <td>0.592</td>\n",
       "      <td>0.252</td>\n",
       "      <td>0.410</td>\n",
       "    </tr>\n",
       "    <tr>\n",
       "      <th>2</th>\n",
       "      <td>3</td>\n",
       "      <td>Norway</td>\n",
       "      <td>7.554</td>\n",
       "      <td>1.488</td>\n",
       "      <td>1.582</td>\n",
       "      <td>1.028</td>\n",
       "      <td>0.603</td>\n",
       "      <td>0.271</td>\n",
       "      <td>0.341</td>\n",
       "    </tr>\n",
       "    <tr>\n",
       "      <th>3</th>\n",
       "      <td>4</td>\n",
       "      <td>Iceland</td>\n",
       "      <td>7.494</td>\n",
       "      <td>1.380</td>\n",
       "      <td>1.624</td>\n",
       "      <td>1.026</td>\n",
       "      <td>0.591</td>\n",
       "      <td>0.354</td>\n",
       "      <td>0.118</td>\n",
       "    </tr>\n",
       "    <tr>\n",
       "      <th>4</th>\n",
       "      <td>5</td>\n",
       "      <td>Netherlands</td>\n",
       "      <td>7.488</td>\n",
       "      <td>1.396</td>\n",
       "      <td>1.522</td>\n",
       "      <td>0.999</td>\n",
       "      <td>0.557</td>\n",
       "      <td>0.322</td>\n",
       "      <td>0.298</td>\n",
       "    </tr>\n",
       "  </tbody>\n",
       "</table>\n",
       "</div>"
      ],
      "text/plain": [
       "   Overall rank Country or region  Score  GDP per capita  Social support  \\\n",
       "0             1           Finland  7.769           1.340           1.587   \n",
       "1             2           Denmark  7.600           1.383           1.573   \n",
       "2             3            Norway  7.554           1.488           1.582   \n",
       "3             4           Iceland  7.494           1.380           1.624   \n",
       "4             5       Netherlands  7.488           1.396           1.522   \n",
       "\n",
       "   Healthy life expectancy  Freedom to make life choices  Generosity  \\\n",
       "0                    0.986                         0.596       0.153   \n",
       "1                    0.996                         0.592       0.252   \n",
       "2                    1.028                         0.603       0.271   \n",
       "3                    1.026                         0.591       0.354   \n",
       "4                    0.999                         0.557       0.322   \n",
       "\n",
       "   Perceptions of corruption  \n",
       "0                      0.393  \n",
       "1                      0.410  \n",
       "2                      0.341  \n",
       "3                      0.118  \n",
       "4                      0.298  "
      ]
     },
     "execution_count": 99,
     "metadata": {},
     "output_type": "execute_result"
    }
   ],
   "source": [
    "# Load dataset\n",
    "import pandas as pd\n",
    "data = pd.read_csv(r\"C:\\Users\\navya\\Downloads\\2019.csv\")\n",
    "data.head()"
   ]
  },
  {
   "cell_type": "code",
   "execution_count": 100,
   "id": "90529724",
   "metadata": {},
   "outputs": [
    {
     "data": {
      "image/png": "[encoded data removed]",
      "text/plain": [
       "<Figure size 1080x504 with 2 Axes>"
      ]
     },
     "metadata": {
      "needs_background": "light"
     },
     "output_type": "display_data"
    }
   ],
   "source": [
    "data_num = data.select_dtypes(include=['int64', 'float64'])\n",
    "Correlation_matrix = data_num.corr()\n",
    "plt.figure(figsize=(15, 7))\n",
    "sns.heatmap(Correlation_matrix, annot=True)\n",
    "plt.title('Correlation Heatmap')\n",
    "plt.show()"
   ]
  },
  {
   "cell_type": "markdown",
   "id": "0b84b812",
   "metadata": {},
   "source": [
    "## Data preprocessing"
   ]
  },
  {
   "cell_type": "code",
   "execution_count": 101,
   "id": "722e12da",
   "metadata": {},
   "outputs": [
    {
     "data": {
      "text/plain": [
       "0"
      ]
     },
     "execution_count": 101,
     "metadata": {},
     "output_type": "execute_result"
    }
   ],
   "source": [
    "data.isnull().sum().sum()"
   ]
  },
  {
   "cell_type": "code",
   "execution_count": 102,
   "id": "d46a61a1",
   "metadata": {},
   "outputs": [],
   "source": [
    "features = [\"GDP per capita\", \"Social support\", \"Healthy life expectancy\",\"Freedom to make life choices\"]\n",
    "target = \"Score\"\n",
    "\n",
    "X = data[features]\n",
    "y = data[target]"
   ]
  },
  {
   "cell_type": "code",
   "execution_count": 103,
   "id": "0d361a9d",
   "metadata": {},
   "outputs": [
    {
     "name": "stdout",
     "output_type": "stream",
     "text": [
      "VIF before handling multicollinearity:\n",
      "                        Feature        VIF\n",
      "0                GDP per capita  21.331929\n",
      "1                Social support  28.631984\n",
      "2       Healthy life expectancy  33.662937\n",
      "3  Freedom to make life choices  10.280102\n"
     ]
    }
   ],
   "source": [
    "# Check Multicollinearity\n",
    "def calculate_vif(X):\n",
    "    vif_data = pd.DataFrame()\n",
    "    vif_data[\"Feature\"] = X.columns\n",
    "    vif_data[\"VIF\"] = [variance_inflation_factor(X.values, i) for i in range(X.shape[1])]\n",
    "    return vif_data\n",
    "\n",
    "print(\"VIF before handling multicollinearity:\")\n",
    "print(calculate_vif(X))"
   ]
  },
  {
   "cell_type": "code",
   "execution_count": 104,
   "id": "14388f22",
   "metadata": {},
   "outputs": [],
   "source": [
    "from sklearn.model_selection import train_test_split\n",
    "X_train,X_test,y_train,y_test = train_test_split(X,y,test_size=0.2,random_state=41)"
   ]
  },
  {
   "cell_type": "code",
   "execution_count": 105,
   "id": "795c308f",
   "metadata": {},
   "outputs": [],
   "source": [
    "from sklearn.preprocessing import StandardScaler\n",
    "scaler = StandardScaler()\n",
    "X_train_sc = scaler.fit_transform(X_train)\n",
    "X_test_sc = scaler.transform(X_test)"
   ]
  },
  {
   "cell_type": "markdown",
   "id": "82dfba0e",
   "metadata": {},
   "source": [
    "## Model selection"
   ]
  },
  {
   "cell_type": "code",
   "execution_count": 106,
   "id": "6fa4ffce",
   "metadata": {},
   "outputs": [],
   "source": [
    "from sklearn.linear_model import Ridge\n",
    "ridge = Ridge(alpha=1.0)\n",
    "ridge.fit(X_train_sc, y_train)\n",
    "ridge_preds = ridge.predict(X_test_sc)"
   ]
  },
  {
   "cell_type": "code",
   "execution_count": 107,
   "id": "e7971d36",
   "metadata": {},
   "outputs": [],
   "source": [
    "from sklearn.ensemble import RandomForestRegressor\n",
    "rf = RandomForestRegressor(n_estimators=100, random_state=42)\n",
    "rf.fit(X_train, y_train)\n",
    "rf_preds = rf.predict(X_test)"
   ]
  },
  {
   "cell_type": "code",
   "execution_count": 108,
   "id": "d619f43d",
   "metadata": {},
   "outputs": [],
   "source": [
    "from xgboost import XGBRegressor\n",
    "xgb = XGBRegressor(n_estimators=100, learning_rate=0.1, random_state=42)\n",
    "xgb.fit(X_train, y_train)\n",
    "xgb_preds = xgb.predict(X_test)"
   ]
  },
  {
   "cell_type": "markdown",
   "id": "9df0f494",
   "metadata": {},
   "source": [
    "## Model Evaluation"
   ]
  },
  {
   "cell_type": "code",
   "execution_count": 109,
   "id": "dbf9eea6",
   "metadata": {},
   "outputs": [],
   "source": [
    "from sklearn.metrics import mean_absolute_error, mean_squared_error, r2_score\n",
    "def evaluate_model(name, y_true, y_pred):\n",
    "    r2 = r2_score(y_true, y_pred)\n",
    "    rmse = np.sqrt(mean_squared_error(y_true, y_pred))\n",
    "    mae = mean_absolute_error(y_true, y_pred)\n",
    "    print(f\"{name} Performance:\")\n",
    "    print(f\"R² Score: {r2:.4f}\")\n",
    "    print(f\"RMSE: {rmse:.4f}\")\n",
    "    print(f\"MAE: {mae:.4f}\\n\")\n"
   ]
  },
  {
   "cell_type": "code",
   "execution_count": 110,
   "id": "a1b6ab9a",
   "metadata": {},
   "outputs": [
    {
     "name": "stdout",
     "output_type": "stream",
     "text": [
      "Ridge Regression Performance:\n",
      "R² Score: 0.8756\n",
      "RMSE: 0.4201\n",
      "MAE: 0.3299\n",
      "\n",
      "Random Forest Performance:\n",
      "R² Score: 0.7968\n",
      "RMSE: 0.5368\n",
      "MAE: 0.4297\n",
      "\n",
      "XGBoost Performance:\n",
      "R² Score: 0.8078\n",
      "RMSE: 0.5221\n",
      "MAE: 0.4312\n",
      "\n"
     ]
    }
   ],
   "source": [
    "# Evaluate models\n",
    "evaluate_model(\"Ridge Regression\", y_test, ridge_preds)\n",
    "evaluate_model(\"Random Forest\", y_test, rf_preds)\n",
    "evaluate_model(\"XGBoost\", y_test, xgb_preds)"
   ]
  },
  {
   "cell_type": "code",
   "execution_count": 111,
   "id": "0852ce17",
   "metadata": {},
   "outputs": [
    {
     "data": {
      "image/png": "[encoded data removed]",
      "text/plain": [
       "<Figure size 432x288 with 1 Axes>"
      ]
     },
     "metadata": {
      "needs_background": "light"
     },
     "output_type": "display_data"
    }
   ],
   "source": [
    "from statsmodels.stats.outliers_influence import variance_inflation_factor\n",
    "feature_importances = pd.Series(rf.feature_importances_, index=X.columns)\n",
    "feature_importances.sort_values().plot(kind=\"barh\", title=\"Feature Importance (Random Forest)\")\n",
    "plt.show()"
   ]
  },
  {
   "cell_type": "markdown",
   "id": "21a4499b",
   "metadata": {},
   "source": [
    "## Improve Model Performance"
   ]
  },
  {
   "cell_type": "code",
   "execution_count": 112,
   "id": "9d279fc2",
   "metadata": {},
   "outputs": [
    {
     "name": "stdout",
     "output_type": "stream",
     "text": [
      "Best Alpha for Ridge Regression: 17.47528400007683\n",
      "Tuned Ridge Regression Performance:\n",
      "R² Score: 0.8719\n",
      "RMSE: 0.4261\n",
      "MAE: 0.3382\n",
      "\n"
     ]
    }
   ],
   "source": [
    "# Ridge Regression Hyperparameter Tuning\n",
    "from sklearn.linear_model import RidgeCV\n",
    "\n",
    "# Define range of alpha values\n",
    "alphas = np.logspace(-3, 3, 100)  # From 0.001 to 1000\n",
    "\n",
    "# Cross-validation Ridge Regression\n",
    "ridge_cv = RidgeCV(alphas=alphas, store_cv_values=True)\n",
    "ridge_cv.fit(X_train_sc, y_train)\n",
    "\n",
    "# Best alpha value\n",
    "best_alpha = ridge_cv.alpha_\n",
    "print(f\"Best Alpha for Ridge Regression: {best_alpha}\")\n",
    "\n",
    "# Train Ridge with best alpha\n",
    "ridge_best = Ridge(alpha=best_alpha)\n",
    "ridge_best.fit(X_train_sc, y_train)\n",
    "ridge_best_preds = ridge_best.predict(X_test_sc)\n",
    "\n",
    "# Evaluate again\n",
    "evaluate_model(\"Tuned Ridge Regression\", y_test, ridge_best_preds)\n"
   ]
  },
  {
   "cell_type": "code",
   "execution_count": 113,
   "id": "979941ac",
   "metadata": {},
   "outputs": [
    {
     "name": "stdout",
     "output_type": "stream",
     "text": [
      "Tuned Random Forest Performance:\n",
      "R² Score: 0.7956\n",
      "RMSE: 0.5384\n",
      "MAE: 0.4365\n",
      "\n"
     ]
    }
   ],
   "source": [
    "from sklearn.model_selection import RandomizedSearchCV\n",
    "\n",
    "# Hyperparameter grid for Random Forest\n",
    "rf_params = {\n",
    "    \"n_estimators\": [50, 100, 200],\n",
    "    \"max_depth\": [None, 5, 10],\n",
    "    \"min_samples_split\": [2, 5, 10],\n",
    "    \"min_samples_leaf\": [1, 2, 4]\n",
    "}\n",
    "\n",
    "rf_tuner = RandomizedSearchCV(RandomForestRegressor(random_state=42), rf_params, n_iter=10, cv=5, n_jobs=-1, random_state=42)\n",
    "rf_tuner.fit(X_train, y_train)\n",
    "\n",
    "# Best Random Forest model\n",
    "rf_best = rf_tuner.best_estimator_\n",
    "rf_best_preds = rf_best.predict(X_test)\n",
    "\n",
    "# Evaluate again\n",
    "evaluate_model(\"Tuned Random Forest\", y_test, rf_best_preds)\n",
    "\n"
   ]
  },
  {
   "cell_type": "code",
   "execution_count": 114,
   "id": "11173b27",
   "metadata": {},
   "outputs": [
    {
     "name": "stdout",
     "output_type": "stream",
     "text": [
      "Tuned XGBoost Performance:\n",
      "R² Score: 0.8186\n",
      "RMSE: 0.5071\n",
      "MAE: 0.3893\n",
      "\n"
     ]
    }
   ],
   "source": [
    "# Hyperparameter grid for XGBoost\n",
    "xgb_params = {\n",
    "    \"n_estimators\": [50, 100, 200],\n",
    "    \"learning_rate\": [0.01, 0.1, 0.2],\n",
    "    \"max_depth\": [3, 5, 7],\n",
    "    \"subsample\": [0.8, 1.0]\n",
    "}\n",
    "\n",
    "xgb_tuner = RandomizedSearchCV(XGBRegressor(random_state=42), xgb_params, n_iter=10, cv=5, n_jobs=-1, random_state=42)\n",
    "xgb_tuner.fit(X_train, y_train)\n",
    "\n",
    "# Best XGBoost model\n",
    "xgb_best = xgb_tuner.best_estimator_\n",
    "xgb_best_preds = xgb_best.predict(X_test)\n",
    "\n",
    "# Evaluate again\n",
    "evaluate_model(\"Tuned XGBoost\", y_test, xgb_best_preds)"
   ]
  },
  {
   "cell_type": "markdown",
   "id": "bc08bb7e",
   "metadata": {},
   "source": [
    "## **Final Insights**  \n"
   ]
  },
  {
   "cell_type": "markdown",
   "id": "17673718",
   "metadata": {},
   "source": [
    "\n",
    "- The dataset exhibited **high multicollinearity** among `GDP per capita`, `Social Support`, and `Healthy Life Expectancy`, with **VIF > 10**, indicating strong correlations. This made **Ridge Regression** the most suitable choice for handling multicollinearity effectively.  \n",
    "\n",
    "- **Best Performing Model: Ridge Regression**  \n",
    "  - **Optimal α (Regularization Strength):** 17.48  \n",
    "  - **Final Performance Metrics:**  \n",
    "    - **R² Score:** 0.8719 → Explains 87.19% of the variance in happiness scores.  \n",
    "    - **RMSE:** 0.4261 → Lower error compared to other models.  \n",
    "    - **MAE:** 0.3382 → Best at minimizing absolute errors.  \n",
    "\n",
    "- Despite **hyperparameter tuning**, both **Random Forest (R² = 0.7956)** and **XGBoost (R² = 0.8186)** underperformed compared to Ridge Regression, reinforcing that a regularized linear model was the best choice for this dataset."
   ]
  },
  {
   "cell_type": "code",
   "execution_count": null,
   "id": "badbb44a",
   "metadata": {},
   "outputs": [],
   "source": []
  }
 ],
 "metadata": {
  "language_info": {
   "codemirror_mode": {
    "name": "ipython",
    "version": 3
   },
   "file_extension": ".py",
   "mimetype": "text/x-python",
   "name": "python",
   "nbconvert_exporter": "python",
   "pygments_lexer": "ipython3",
   "version": "3.9.12"
  }
 },
 "nbformat": 4,
 "nbformat_minor": 5
}
